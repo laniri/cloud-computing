{
 "cells": [
  {
   "cell_type": "markdown",
   "id": "9686d93d",
   "metadata": {},
   "source": [
    "# Module 2 exercise: Create Markdown in Jupyter\n",
    "this is an example juyiter notebook"
   ]
  },
  {
   "cell_type": "code",
   "execution_count": 3,
   "id": "4556bece",
   "metadata": {},
   "outputs": [
    {
     "name": "stdout",
     "output_type": "stream",
     "text": [
      "hellow world\n"
     ]
    }
   ],
   "source": [
    "print(\"hellow world\")"
   ]
  },
  {
   "cell_type": "markdown",
   "id": "cab9ce10",
   "metadata": {},
   "source": [
    "## Things I wish to acheive:\n",
    "* learn how to build a pipeline\n",
    "* lean how to use containers\n",
    "* buils a data engineering skills\n"
   ]
  },
  {
   "cell_type": "code",
   "execution_count": null,
   "id": "718f8656",
   "metadata": {},
   "outputs": [],
   "source": []
  }
 ],
 "metadata": {
  "kernelspec": {
   "display_name": "Python 3 (ipykernel)",
   "language": "python",
   "name": "python3"
  },
  "language_info": {
   "codemirror_mode": {
    "name": "ipython",
    "version": 3
   },
   "file_extension": ".py",
   "mimetype": "text/x-python",
   "name": "python",
   "nbconvert_exporter": "python",
   "pygments_lexer": "ipython3",
   "version": "3.9.12"
  }
 },
 "nbformat": 4,
 "nbformat_minor": 5
}
