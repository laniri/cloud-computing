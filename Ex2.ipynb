{
  "cells": [
    {
      "cell_type": "markdown",
      "metadata": {
        "id": "view-in-github",
        "colab_type": "text"
      },
      "source": [
        "<a href=\"https://colab.research.google.com/github/laniri/cloud-computing/blob/main/Ex2.ipynb\" target=\"_parent\"><img src=\"https://colab.research.google.com/assets/colab-badge.svg\" alt=\"Open In Colab\"/></a>"
      ]
    },
    {
      "cell_type": "markdown",
      "id": "9686d93d",
      "metadata": {
        "id": "9686d93d"
      },
      "source": [
        "# Module 2 exercise: Create Markdown in Jupyter\n",
        "this is an example juyiter notebook"
      ]
    },
    {
      "cell_type": "code",
      "execution_count": 1,
      "id": "4556bece",
      "metadata": {
        "colab": {
          "base_uri": "https://localhost:8080/"
        },
        "id": "4556bece",
        "outputId": "99861383-9bcd-47b9-86a4-abfaece5196b"
      },
      "outputs": [
        {
          "output_type": "stream",
          "name": "stdout",
          "text": [
            "hellow world\n"
          ]
        }
      ],
      "source": [
        "print(\"hellow world\")"
      ]
    },
    {
      "cell_type": "markdown",
      "id": "cab9ce10",
      "metadata": {
        "id": "cab9ce10"
      },
      "source": [
        "## Things I wish to acheive:\n",
        "* learn how to build a pipeline\n",
        "* lean how to use containers\n",
        "* buils a data engineering skills\n"
      ]
    },
    {
      "cell_type": "code",
      "execution_count": 1,
      "id": "718f8656",
      "metadata": {
        "id": "718f8656"
      },
      "outputs": [],
      "source": []
    }
  ],
  "metadata": {
    "kernelspec": {
      "display_name": "Python 3 (ipykernel)",
      "language": "python",
      "name": "python3"
    },
    "language_info": {
      "codemirror_mode": {
        "name": "ipython",
        "version": 3
      },
      "file_extension": ".py",
      "mimetype": "text/x-python",
      "name": "python",
      "nbconvert_exporter": "python",
      "pygments_lexer": "ipython3",
      "version": "3.9.12"
    },
    "colab": {
      "provenance": [],
      "include_colab_link": true
    }
  },
  "nbformat": 4,
  "nbformat_minor": 5
}